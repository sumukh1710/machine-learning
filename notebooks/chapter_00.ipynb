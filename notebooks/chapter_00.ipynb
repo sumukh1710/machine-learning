{
  "cells": [
    {
      "cell_type": "markdown",
      "metadata": {
        "id": "5K0fYFR7-2AH"
      },
      "source": [
        "## Chapter 0: Setup\n",
        "\n",
        "<a target=\"_blank\" href=\"https://colab.research.google.com/github/wandb/eval-course/blob/main/notebooks/chapter_00.ipynb\">\n",
        "  <img src=\"https://colab.research.google.com/assets/colab-badge.svg\" alt=\"Open In Colab\"/>\n",
        "</a>\n",
        "\n",
        "<!--- @wandbcode{eval-course-00} -->\n",
        "\n",
        "Let's install the required packages and check our setup for this course.\n",
        "\n",
        "### 🎉 Free Google AI Studio Access\n",
        "\n",
        "Before you run this colab notebook, you'll need access to Google's Generative AI models. Here's how to get started:\n",
        "\n",
        "1. Visit [Google AI Studio](https://makersuite.google.com/app/home) and sign in with your Google account\n",
        "2. Get your API key from the \"Get API key\" section in Google AI Studio\n",
        "\n",
        "Alternatively, if you already have a Google AI Studio API key, feel free to proceed. :)"
      ]
    },
    {
      "cell_type": "code",
      "execution_count": null,
      "metadata": {
        "id": "pGucEkkN-2AL"
      },
      "outputs": [],
      "source": [
        "!pip install -qq weave google-generativeai"
      ]
    },
    {
      "cell_type": "markdown",
      "metadata": {
        "id": "auwBuV5D-2AN"
      },
      "source": [
        "## 1. Setup Weave\n",
        "\n",
        "\n",
        "The code cell below will prompt you to put in a W&B API key. You can get your API key by heading over to https://wandb.ai/authorize."
      ]
    },
    {
      "cell_type": "code",
      "execution_count": null,
      "metadata": {
        "id": "DtKL-axf-2AO"
      },
      "outputs": [],
      "source": [
        "# import weave\n",
        "import weave\n",
        "\n",
        "# initialize weave client\n",
        "weave_client = weave.init(\"eval_course_ch0\")"
      ]
    },
    {
      "cell_type": "markdown",
      "metadata": {
        "id": "1uazpe76-2AO"
      },
      "source": [
        "## 2. Setup Google AI Studio\n",
        "\n",
        "The code cell below will prompt you to put in a Google AI Studio API key."
      ]
    },
    {
      "cell_type": "code",
      "execution_count": null,
      "metadata": {
        "id": "psL3hhUH-2AP"
      },
      "outputs": [],
      "source": [
        "import getpass\n",
        "\n",
        "import google.generativeai as genai\n",
        "\n",
        "genai.configure(api_key=getpass.getpass(\"Please enter your Google AI Studio API key\"))"
      ]
    },
    {
      "cell_type": "markdown",
      "metadata": {
        "id": "tOCDTXm6-2AQ"
      },
      "source": [
        "## A simple-turn chat with Google AI Studio's gemini-2.0-flash-exp\n"
      ]
    },
    {
      "cell_type": "code",
      "execution_count": null,
      "metadata": {
        "id": "n3aJYoBp-2AR"
      },
      "outputs": [],
      "source": [
        "model = genai.GenerativeModel(\"gemini-2.0-flash-exp\")\n",
        "response = model.generate_content(\"Explain how AI works\")\n",
        "print(response.text)"
      ]
    },
    {
      "cell_type": "markdown",
      "metadata": {
        "id": "hC5T1OAO-2AS"
      },
      "source": [
        "Let's head over to the weave URL to check out the generated response."
      ]
    }
  ],
  "metadata": {
    "colab": {
      "provenance": []
    },
    "kernelspec": {
      "display_name": "Python 3",
      "name": "python3"
    },
    "language_info": {
      "codemirror_mode": {
        "name": "ipython",
        "version": 3
      },
      "file_extension": ".py",
      "mimetype": "text/x-python",
      "name": "python",
      "nbconvert_exporter": "python",
      "pygments_lexer": "ipython3",
      "version": "3.10.12"
    }
  },
  "nbformat": 4,
  "nbformat_minor": 0
}